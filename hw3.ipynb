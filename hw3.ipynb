{
 "cells": [
  {
   "cell_type": "markdown",
   "metadata": {},
   "source": [
    "# Домашняя работа по уроку *JSON*\n",
    "\n",
    "## Первые шаги\n",
    "\n",
    "Для начала импортируем все библиотеки, которые нам понадобятся, и конвертируем наш файл в список словарей, где каждый словарь -- информация об отдельном твите."
   ]
  },
  {
   "cell_type": "code",
   "execution_count": 74,
   "metadata": {},
   "outputs": [],
   "source": [
    "import json\n",
    "import collections\n",
    "import string\n",
    "import re\n",
    "\n",
    "tweets = []\n",
    "with open('hw_3_twitter.json', 'r', encoding='utf-8') as twi:\n",
    "    json_tweets = twi.readlines()\n",
    "for json_tweet in json_tweets:\n",
    "    tweets.append(json.loads(json_tweet))"
   ]
  },
  {
   "cell_type": "markdown",
   "metadata": {},
   "source": [
    "Также создадим функцию, которая сможет печатать топ-списки с числом нужных элементов и словарем в качестве аргументов. Она нам понадобится во многих заданиях."
   ]
  },
  {
   "cell_type": "code",
   "execution_count": 129,
   "metadata": {},
   "outputs": [],
   "source": [
    "def top(num, dictionary):\n",
    "    i = 1\n",
    "    for key in sorted(dictionary, key=dictionary.get, reverse=True)[:num]:\n",
    "        print(str(i) + '. ' + key + ':', dictionary[key])\n",
    "        i += 1"
   ]
  },
  {
   "cell_type": "markdown",
   "metadata": {},
   "source": [
    "## Задание 1\n",
    "\n",
    "Так как мы уже имеем список, в котором каждая строчка — твит, то, узнав его длину, мы узнаем количество всех твитов. Задать переменную важно, т.к. она нам понадобится в следующем задании."
   ]
  },
  {
   "cell_type": "code",
   "execution_count": 131,
   "metadata": {
    "scrolled": false
   },
   "outputs": [
    {
     "name": "stdout",
     "output_type": "stream",
     "text": [
      "2556\n"
     ]
    }
   ],
   "source": [
    "tweet_num = len(tweets)\n",
    "print(tweet_num)"
   ]
  },
  {
   "cell_type": "markdown",
   "metadata": {},
   "source": [
    "## Задание 2\n",
    "\n",
    "Смотрим на кол-во удаленных твитов, делим на все твиты и переводим в проценты."
   ]
  },
  {
   "cell_type": "code",
   "execution_count": 123,
   "metadata": {},
   "outputs": [
    {
     "name": "stdout",
     "output_type": "stream",
     "text": [
      "14.162754303599373%\n"
     ]
    }
   ],
   "source": [
    "del_num = 0\n",
    "for tweet in tweets:\n",
    "    if 'delete' in tweet:\n",
    "        del_num += 1\n",
    "del_percentage = (del_num / tweet_num) * 100\n",
    "print(str(del_percentage) + '%')"
   ]
  },
  {
   "cell_type": "markdown",
   "metadata": {},
   "source": [
    "## Задание 3\n",
    "\n",
    "Создаем список со значениями 'lang' для каждого твита. После этого превращаем его в счетчик. Создаем список топ-10."
   ]
  },
  {
   "cell_type": "code",
   "execution_count": 126,
   "metadata": {
    "scrolled": true
   },
   "outputs": [
    {
     "name": "stdout",
     "output_type": "stream",
     "text": [
      "Топ-10 языков:\n",
      "1. en: 719\n",
      "2. ja: 438\n",
      "3. es: 173\n",
      "4. ko: 149\n",
      "5. th: 123\n",
      "6. ar: 119\n",
      "7. und: 117\n",
      "8. in: 71\n",
      "9. pt: 69\n",
      "10. fr: 35\n"
     ]
    }
   ],
   "source": [
    "lang_list = []\n",
    "for tweet in tweets:\n",
    "    if 'lang' in tweet:\n",
    "        lang_list.append(tweet['lang'])\n",
    "lang_counter = collections.Counter(lang_list)\n",
    "print('Топ-10 языков:')\n",
    "top(10, lang_counter)"
   ]
  },
  {
   "cell_type": "markdown",
   "metadata": {},
   "source": [
    "## Задание 4\n",
    "\n",
    "Исключаем удаленные твиты и из каждого твита вытаскиваем id юзера и добавляем в новый список. Список превращаем в счетчик, а дальше при помощи цикла считаем тех юзеров, которые в списке встречались больше одного раза."
   ]
  },
  {
   "cell_type": "code",
   "execution_count": 69,
   "metadata": {},
   "outputs": [
    {
     "name": "stdout",
     "output_type": "stream",
     "text": [
      "25\n"
     ]
    }
   ],
   "source": [
    "id_list = []\n",
    "for tweet in tweets:\n",
    "    if 'delete' not in tweet:\n",
    "        user_id = tweet['user']['id']\n",
    "        id_list.append(user_id)\n",
    "id_counter = collections.Counter(id_list)\n",
    "active_user_num = 0\n",
    "for user in id_counter:\n",
    "    if id_counter[user] > 1:\n",
    "        active_user_num += 1\n",
    "print(active_user_num)"
   ]
  },
  {
   "cell_type": "markdown",
   "metadata": {},
   "source": [
    "## Задание 5\n",
    "\n",
    "Из каждого твита вытаскиваем список тюплов (хэштег, положение хэштега в тексте). Сами хэштеги добавляем в изначально пустой список hashtags_uncounted. Создаем список топ-20 хэштегов."
   ]
  },
  {
   "cell_type": "code",
   "execution_count": 124,
   "metadata": {
    "scrolled": true
   },
   "outputs": [
    {
     "name": "stdout",
     "output_type": "stream",
     "text": [
      "Топ-20 хэштегов:\n",
      "1. BTS: 19\n",
      "2. 방탄소년단: 14\n",
      "3. AMAs: 13\n",
      "4. 人気投票ガチャ: 8\n",
      "5. Thala: 8\n",
      "6. 태형: 7\n",
      "7. हिटलर_राज: 7\n",
      "8. 뷔: 6\n",
      "9. PledgeForSwachhBharat: 6\n",
      "10. MPN: 6\n",
      "11. BTSinChicago: 5\n",
      "12. BTSLoveYourselfTour: 5\n",
      "13. 오늘의방탄: 5\n",
      "14. RupeeAt73: 5\n",
      "15. うぃる節: 5\n",
      "16. PCAs: 4\n",
      "17. V: 4\n",
      "18. JYPpleaseprotectmyBamBam: 4\n",
      "19. 시카고1회차공연: 4\n",
      "20. banques: 4\n"
     ]
    }
   ],
   "source": [
    "hashtags_uncounted = []\n",
    "for tweet in tweets:\n",
    "    if 'entities' in tweet:\n",
    "        tweet_hashtags = tweet['entities']['hashtags']\n",
    "        tweet_hash_text = []\n",
    "        for hashtag in tweet_hashtags:\n",
    "            tweet_hash_text.append(hashtag['text'])\n",
    "    hashtags_uncounted.extend(tweet_hash_text)\n",
    "hashtags_counter = collections.Counter(hashtags_uncounted)\n",
    "print('Топ-20 хэштегов:')\n",
    "top(20, hashtags_counter)"
   ]
  },
  {
   "cell_type": "markdown",
   "metadata": {},
   "source": [
    "## Задание 6\n",
    "\n",
    "Если твит не ретвитнут и не удален и язык -- английский, берем из словаря текст, убираем знаки препинания при помощи punctuation и метода replace, приводим к нижнему регистру и полученный текст разделяем на слова по пробелам. Добавляем все в список words_uncounted.\n",
    "Превращаем список в счетчик. Составляем топ-список."
   ]
  },
  {
   "cell_type": "code",
   "execution_count": 125,
   "metadata": {
    "scrolled": false
   },
   "outputs": [
    {
     "name": "stdout",
     "output_type": "stream",
     "text": [
      "Топ-50 слов:\n",
      "1. the: 125\n",
      "2. to: 86\n",
      "3. a: 75\n",
      "4. i: 73\n",
      "5. and: 64\n",
      "6. is: 50\n",
      "7. you: 48\n",
      "8. of: 45\n",
      "9. for: 42\n",
      "10. it: 41\n",
      "11. in: 38\n",
      "12. that: 33\n",
      "13. this: 31\n",
      "14. my: 30\n",
      "15. me: 27\n",
      "16. be: 26\n",
      "17. on: 26\n",
      "18. are: 21\n",
      "19. so: 21\n",
      "20. what: 20\n",
      "21. with: 20\n",
      "22. have: 19\n",
      "23. not: 17\n",
      "24. more: 17\n",
      "25. but: 17\n",
      "26. at: 17\n",
      "27. your: 16\n",
      "28. get: 16\n",
      "29. its: 15\n",
      "30. about: 14\n",
      "31. like: 14\n",
      "32. just: 14\n",
      "33. im: 13\n",
      "34. we: 12\n",
      "35. all: 12\n",
      "36. now: 12\n",
      "37. up: 11\n",
      "38. they: 11\n",
      "39. if: 11\n",
      "40. only: 11\n",
      "41. was: 11\n",
      "42. he: 11\n",
      "43. one: 11\n",
      "44. hit: 10\n",
      "45. time: 9\n",
      "46. or: 9\n",
      "47. out: 9\n",
      "48. today: 9\n",
      "49. from: 9\n",
      "50. i’m: 9\n"
     ]
    }
   ],
   "source": [
    "words_uncounted = []\n",
    "for tweet in tweets:\n",
    "    if 'lang' in tweet and tweet['lang'] == 'en':\n",
    "        if 'retweeted_status' not in tweet:\n",
    "            twitext = tweet['text']\n",
    "            for symbol in twitext:\n",
    "                if symbol in string.punctuation:\n",
    "                    twitext = twitext.replace(symbol, '')\n",
    "            twitext = twitext.lower()\n",
    "            tweet_words = twitext.split()\n",
    "            words_uncounted.extend(tweet_words)\n",
    "words_counter = collections.Counter(words_uncounted)\n",
    "print('Топ-50 слов:')\n",
    "top(50, words_counter)"
   ]
  },
  {
   "cell_type": "markdown",
   "metadata": {},
   "source": [
    "## Задание 7\n",
    "\n",
    "Вытаскиваем из словаря имя юзера и кол-во его подписчиков. Добавляем данные в словарь (ключ -- имя, значение -- кол-во). Составляем топ-список."
   ]
  },
  {
   "cell_type": "code",
   "execution_count": 114,
   "metadata": {
    "scrolled": true
   },
   "outputs": [
    {
     "name": "stdout",
     "output_type": "stream",
     "text": [
      "Топ-10 юзеров:\n",
      "1. FIL0S0FIA: 2521403\n",
      "2. FitnessMagazine: 1491309\n",
      "3. malaysiakini: 1206759\n",
      "4. NYTScience: 1137374\n",
      "5. GramaticaReal: 625463\n",
      "6. tgrthabertv: 392472\n",
      "7. TheSunFootball: 383698\n",
      "8. Melbourne: 374222\n",
      "9. Roznama_Express: 318189\n",
      "10. burger_boogie: 311319\n"
     ]
    }
   ],
   "source": [
    "follow_count = {}\n",
    "for tweet in tweets:\n",
    "    if 'user' in tweet:\n",
    "        username = tweet['user']['screen_name']\n",
    "        num_of_fol = tweet['user']['followers_count']\n",
    "        follow_count[username] = num_of_fol\n",
    "print('Топ-10 юзеров:')\n",
    "i = 1\n",
    "top(10, follow_count)"
   ]
  },
  {
   "cell_type": "markdown",
   "metadata": {},
   "source": [
    "## Задание 8\n",
    "\n",
    "Воспользуемся регулярными выражениями, чтобы найти название приложения, выделенное тэгами html. Добавим название в список apps. apps превратим в счетчик и сделаем топ-10."
   ]
  },
  {
   "cell_type": "code",
   "execution_count": 121,
   "metadata": {
    "scrolled": false
   },
   "outputs": [
    {
     "name": "stdout",
     "output_type": "stream",
     "text": [
      "Топ-10 источников:\n",
      "1. Twitter for iPhone: 800\n",
      "2. Twitter for Android: 695\n",
      "3. Twitter Web Client: 140\n",
      "4. twittbot.net: 122\n",
      "5. Twitter Lite: 51\n",
      "6. Twitter for iPad: 28\n",
      "7. TweetDeck: 23\n",
      "8. Facebook: 17\n",
      "9. IFTTT: 14\n",
      "10. تطبيق قرآني: 10\n"
     ]
    }
   ],
   "source": [
    "apps = []\n",
    "for tweet in tweets:\n",
    "    if 'source' in tweet:\n",
    "        app = re.findall('<a .*?>(.*?)</a>', tweet['source'])\n",
    "        apps.extend(app)\n",
    "apps_counter = collections.Counter(apps)\n",
    "print('Топ-10 источников:')\n",
    "top(10, dict(apps_counter))"
   ]
  },
  {
   "cell_type": "markdown",
   "metadata": {},
   "source": [
    "*Миша Сонькин*"
   ]
  }
 ],
 "metadata": {
  "kernelspec": {
   "display_name": "Python 3",
   "language": "python",
   "name": "python3"
  },
  "language_info": {
   "codemirror_mode": {
    "name": "ipython",
    "version": 3
   },
   "file_extension": ".py",
   "mimetype": "text/x-python",
   "name": "python",
   "nbconvert_exporter": "python",
   "pygments_lexer": "ipython3",
   "version": "3.7.3"
  }
 },
 "nbformat": 4,
 "nbformat_minor": 2
}
